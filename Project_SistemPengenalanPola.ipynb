{
 "cells": [
  {
   "cell_type": "code",
   "execution_count": 1,
   "metadata": {
    "scrolled": true
   },
   "outputs": [
    {
     "name": "stderr",
     "output_type": "stream",
     "text": [
      "Using TensorFlow backend.\n"
     ]
    }
   ],
   "source": [
    "import numpy as np\n",
    "import pandas as pd\n",
    "from sklearn.model_selection import train_test_split\n",
    "from sklearn.preprocessing import MinMaxScaler\n",
    "from keras.utils import to_categorical"
   ]
  },
  {
   "cell_type": "code",
   "execution_count": 2,
   "metadata": {},
   "outputs": [],
   "source": [
    "data = pd.read_csv('lung_cancer_patient_datasets.csv')"
   ]
  },
  {
   "cell_type": "code",
   "execution_count": 3,
   "metadata": {},
   "outputs": [
    {
     "data": {
      "text/html": [
       "<div>\n",
       "<style scoped>\n",
       "    .dataframe tbody tr th:only-of-type {\n",
       "        vertical-align: middle;\n",
       "    }\n",
       "\n",
       "    .dataframe tbody tr th {\n",
       "        vertical-align: top;\n",
       "    }\n",
       "\n",
       "    .dataframe thead th {\n",
       "        text-align: right;\n",
       "    }\n",
       "</style>\n",
       "<table border=\"1\" class=\"dataframe\">\n",
       "  <thead>\n",
       "    <tr style=\"text-align: right;\">\n",
       "      <th></th>\n",
       "      <th>Patient Id</th>\n",
       "      <th>Age</th>\n",
       "      <th>Gender</th>\n",
       "      <th>Alcohol use</th>\n",
       "      <th>OccuPational Hazards</th>\n",
       "      <th>Genetic Risk</th>\n",
       "      <th>chronic Lung Disease</th>\n",
       "      <th>Obesity</th>\n",
       "      <th>Smoking</th>\n",
       "      <th>Chest Pain</th>\n",
       "      <th>Coughing of Blood</th>\n",
       "      <th>Fatigue</th>\n",
       "      <th>Shortness of Breath</th>\n",
       "      <th>Swallowing Difficulty</th>\n",
       "      <th>Dry Cough</th>\n",
       "      <th>Level</th>\n",
       "    </tr>\n",
       "  </thead>\n",
       "  <tbody>\n",
       "    <tr>\n",
       "      <th>0</th>\n",
       "      <td>P1</td>\n",
       "      <td>33</td>\n",
       "      <td>1</td>\n",
       "      <td>4</td>\n",
       "      <td>4</td>\n",
       "      <td>3</td>\n",
       "      <td>2</td>\n",
       "      <td>4</td>\n",
       "      <td>3</td>\n",
       "      <td>2</td>\n",
       "      <td>4</td>\n",
       "      <td>3</td>\n",
       "      <td>2</td>\n",
       "      <td>3</td>\n",
       "      <td>3</td>\n",
       "      <td>Low</td>\n",
       "    </tr>\n",
       "    <tr>\n",
       "      <th>1</th>\n",
       "      <td>P10</td>\n",
       "      <td>17</td>\n",
       "      <td>1</td>\n",
       "      <td>1</td>\n",
       "      <td>3</td>\n",
       "      <td>4</td>\n",
       "      <td>2</td>\n",
       "      <td>2</td>\n",
       "      <td>2</td>\n",
       "      <td>2</td>\n",
       "      <td>3</td>\n",
       "      <td>1</td>\n",
       "      <td>7</td>\n",
       "      <td>6</td>\n",
       "      <td>7</td>\n",
       "      <td>Medium</td>\n",
       "    </tr>\n",
       "    <tr>\n",
       "      <th>2</th>\n",
       "      <td>P100</td>\n",
       "      <td>35</td>\n",
       "      <td>1</td>\n",
       "      <td>5</td>\n",
       "      <td>5</td>\n",
       "      <td>5</td>\n",
       "      <td>4</td>\n",
       "      <td>7</td>\n",
       "      <td>2</td>\n",
       "      <td>4</td>\n",
       "      <td>8</td>\n",
       "      <td>8</td>\n",
       "      <td>9</td>\n",
       "      <td>1</td>\n",
       "      <td>7</td>\n",
       "      <td>High</td>\n",
       "    </tr>\n",
       "    <tr>\n",
       "      <th>3</th>\n",
       "      <td>P1000</td>\n",
       "      <td>37</td>\n",
       "      <td>1</td>\n",
       "      <td>7</td>\n",
       "      <td>7</td>\n",
       "      <td>6</td>\n",
       "      <td>7</td>\n",
       "      <td>7</td>\n",
       "      <td>7</td>\n",
       "      <td>7</td>\n",
       "      <td>8</td>\n",
       "      <td>4</td>\n",
       "      <td>3</td>\n",
       "      <td>4</td>\n",
       "      <td>7</td>\n",
       "      <td>High</td>\n",
       "    </tr>\n",
       "    <tr>\n",
       "      <th>4</th>\n",
       "      <td>P101</td>\n",
       "      <td>46</td>\n",
       "      <td>1</td>\n",
       "      <td>8</td>\n",
       "      <td>7</td>\n",
       "      <td>7</td>\n",
       "      <td>6</td>\n",
       "      <td>7</td>\n",
       "      <td>8</td>\n",
       "      <td>7</td>\n",
       "      <td>9</td>\n",
       "      <td>3</td>\n",
       "      <td>4</td>\n",
       "      <td>4</td>\n",
       "      <td>2</td>\n",
       "      <td>High</td>\n",
       "    </tr>\n",
       "    <tr>\n",
       "      <th>...</th>\n",
       "      <td>...</td>\n",
       "      <td>...</td>\n",
       "      <td>...</td>\n",
       "      <td>...</td>\n",
       "      <td>...</td>\n",
       "      <td>...</td>\n",
       "      <td>...</td>\n",
       "      <td>...</td>\n",
       "      <td>...</td>\n",
       "      <td>...</td>\n",
       "      <td>...</td>\n",
       "      <td>...</td>\n",
       "      <td>...</td>\n",
       "      <td>...</td>\n",
       "      <td>...</td>\n",
       "      <td>...</td>\n",
       "    </tr>\n",
       "    <tr>\n",
       "      <th>995</th>\n",
       "      <td>P995</td>\n",
       "      <td>44</td>\n",
       "      <td>1</td>\n",
       "      <td>7</td>\n",
       "      <td>7</td>\n",
       "      <td>7</td>\n",
       "      <td>6</td>\n",
       "      <td>7</td>\n",
       "      <td>7</td>\n",
       "      <td>7</td>\n",
       "      <td>7</td>\n",
       "      <td>5</td>\n",
       "      <td>2</td>\n",
       "      <td>8</td>\n",
       "      <td>5</td>\n",
       "      <td>High</td>\n",
       "    </tr>\n",
       "    <tr>\n",
       "      <th>996</th>\n",
       "      <td>P996</td>\n",
       "      <td>37</td>\n",
       "      <td>2</td>\n",
       "      <td>8</td>\n",
       "      <td>7</td>\n",
       "      <td>7</td>\n",
       "      <td>6</td>\n",
       "      <td>7</td>\n",
       "      <td>7</td>\n",
       "      <td>7</td>\n",
       "      <td>7</td>\n",
       "      <td>9</td>\n",
       "      <td>5</td>\n",
       "      <td>2</td>\n",
       "      <td>1</td>\n",
       "      <td>High</td>\n",
       "    </tr>\n",
       "    <tr>\n",
       "      <th>997</th>\n",
       "      <td>P997</td>\n",
       "      <td>25</td>\n",
       "      <td>2</td>\n",
       "      <td>5</td>\n",
       "      <td>5</td>\n",
       "      <td>5</td>\n",
       "      <td>4</td>\n",
       "      <td>7</td>\n",
       "      <td>2</td>\n",
       "      <td>4</td>\n",
       "      <td>8</td>\n",
       "      <td>8</td>\n",
       "      <td>9</td>\n",
       "      <td>1</td>\n",
       "      <td>7</td>\n",
       "      <td>High</td>\n",
       "    </tr>\n",
       "    <tr>\n",
       "      <th>998</th>\n",
       "      <td>P998</td>\n",
       "      <td>18</td>\n",
       "      <td>2</td>\n",
       "      <td>8</td>\n",
       "      <td>7</td>\n",
       "      <td>7</td>\n",
       "      <td>6</td>\n",
       "      <td>7</td>\n",
       "      <td>8</td>\n",
       "      <td>7</td>\n",
       "      <td>9</td>\n",
       "      <td>3</td>\n",
       "      <td>4</td>\n",
       "      <td>4</td>\n",
       "      <td>2</td>\n",
       "      <td>High</td>\n",
       "    </tr>\n",
       "    <tr>\n",
       "      <th>999</th>\n",
       "      <td>P999</td>\n",
       "      <td>47</td>\n",
       "      <td>1</td>\n",
       "      <td>5</td>\n",
       "      <td>5</td>\n",
       "      <td>5</td>\n",
       "      <td>4</td>\n",
       "      <td>7</td>\n",
       "      <td>2</td>\n",
       "      <td>4</td>\n",
       "      <td>8</td>\n",
       "      <td>8</td>\n",
       "      <td>9</td>\n",
       "      <td>1</td>\n",
       "      <td>7</td>\n",
       "      <td>High</td>\n",
       "    </tr>\n",
       "  </tbody>\n",
       "</table>\n",
       "<p>1000 rows × 16 columns</p>\n",
       "</div>"
      ],
      "text/plain": [
       "    Patient Id  Age  Gender  Alcohol use  OccuPational Hazards  Genetic Risk  \\\n",
       "0           P1   33       1            4                     4             3   \n",
       "1          P10   17       1            1                     3             4   \n",
       "2         P100   35       1            5                     5             5   \n",
       "3        P1000   37       1            7                     7             6   \n",
       "4         P101   46       1            8                     7             7   \n",
       "..         ...  ...     ...          ...                   ...           ...   \n",
       "995       P995   44       1            7                     7             7   \n",
       "996       P996   37       2            8                     7             7   \n",
       "997       P997   25       2            5                     5             5   \n",
       "998       P998   18       2            8                     7             7   \n",
       "999       P999   47       1            5                     5             5   \n",
       "\n",
       "     chronic Lung Disease  Obesity  Smoking  Chest Pain  Coughing of Blood  \\\n",
       "0                       2        4        3           2                  4   \n",
       "1                       2        2        2           2                  3   \n",
       "2                       4        7        2           4                  8   \n",
       "3                       7        7        7           7                  8   \n",
       "4                       6        7        8           7                  9   \n",
       "..                    ...      ...      ...         ...                ...   \n",
       "995                     6        7        7           7                  7   \n",
       "996                     6        7        7           7                  7   \n",
       "997                     4        7        2           4                  8   \n",
       "998                     6        7        8           7                  9   \n",
       "999                     4        7        2           4                  8   \n",
       "\n",
       "     Fatigue  Shortness of Breath  Swallowing Difficulty  Dry Cough   Level  \n",
       "0          3                    2                      3          3     Low  \n",
       "1          1                    7                      6          7  Medium  \n",
       "2          8                    9                      1          7    High  \n",
       "3          4                    3                      4          7    High  \n",
       "4          3                    4                      4          2    High  \n",
       "..       ...                  ...                    ...        ...     ...  \n",
       "995        5                    2                      8          5    High  \n",
       "996        9                    5                      2          1    High  \n",
       "997        8                    9                      1          7    High  \n",
       "998        3                    4                      4          2    High  \n",
       "999        8                    9                      1          7    High  \n",
       "\n",
       "[1000 rows x 16 columns]"
      ]
     },
     "execution_count": 3,
     "metadata": {},
     "output_type": "execute_result"
    }
   ],
   "source": [
    "data"
   ]
  },
  {
   "cell_type": "code",
   "execution_count": 4,
   "metadata": {},
   "outputs": [],
   "source": [
    "labels = data['Level']\n",
    "labels = labels.tolist()"
   ]
  },
  {
   "cell_type": "code",
   "execution_count": 6,
   "metadata": {},
   "outputs": [],
   "source": [
    "# labels"
   ]
  },
  {
   "cell_type": "code",
   "execution_count": 7,
   "metadata": {},
   "outputs": [],
   "source": [
    "labels_num = []\n",
    "for i in labels:\n",
    "    if(i == 'Low'):\n",
    "        labels_num.append(0)\n",
    "    elif (i == 'Medium'):\n",
    "        labels_num.append(1)\n",
    "    else:\n",
    "        labels_num.append(2)"
   ]
  },
  {
   "cell_type": "code",
   "execution_count": 8,
   "metadata": {},
   "outputs": [],
   "source": [
    "labels_num = np.array(labels_num)"
   ]
  },
  {
   "cell_type": "code",
   "execution_count": 10,
   "metadata": {},
   "outputs": [],
   "source": [
    "# labels_num"
   ]
  },
  {
   "cell_type": "code",
   "execution_count": 11,
   "metadata": {},
   "outputs": [],
   "source": [
    "features = data[data.columns[1:15]]"
   ]
  },
  {
   "cell_type": "code",
   "execution_count": 12,
   "metadata": {},
   "outputs": [],
   "source": [
    "features= features.values.tolist()"
   ]
  },
  {
   "cell_type": "code",
   "execution_count": 13,
   "metadata": {},
   "outputs": [],
   "source": [
    "features = np.array(features)"
   ]
  },
  {
   "cell_type": "code",
   "execution_count": 15,
   "metadata": {},
   "outputs": [],
   "source": [
    "# features"
   ]
  },
  {
   "cell_type": "code",
   "execution_count": 16,
   "metadata": {},
   "outputs": [],
   "source": [
    "X = features\n",
    "y = labels_num"
   ]
  },
  {
   "cell_type": "code",
   "execution_count": 18,
   "metadata": {},
   "outputs": [],
   "source": [
    "X_train, X_test, y_train, y_test = train_test_split(X, y, test_size=0.33, random_state=42)"
   ]
  },
  {
   "cell_type": "code",
   "execution_count": 25,
   "metadata": {},
   "outputs": [],
   "source": [
    "# y_train"
   ]
  },
  {
   "cell_type": "code",
   "execution_count": 26,
   "metadata": {},
   "outputs": [],
   "source": [
    "y_train = to_categorical(y_train, num_classes=3)#[[1,0,0], [0,1,0], [0,0,1]]"
   ]
  },
  {
   "cell_type": "code",
   "execution_count": 27,
   "metadata": {},
   "outputs": [
    {
     "data": {
      "text/plain": [
       "array([[1., 0., 0.],\n",
       "       [0., 0., 1.],\n",
       "       [1., 0., 0.],\n",
       "       ...,\n",
       "       [0., 1., 0.],\n",
       "       [0., 0., 1.],\n",
       "       [0., 0., 1.]], dtype=float32)"
      ]
     },
     "execution_count": 27,
     "metadata": {},
     "output_type": "execute_result"
    }
   ],
   "source": [
    "y_train"
   ]
  },
  {
   "cell_type": "code",
   "execution_count": 28,
   "metadata": {},
   "outputs": [],
   "source": [
    "# Normalisasi Data\n",
    "scaler_object = MinMaxScaler()"
   ]
  },
  {
   "cell_type": "code",
   "execution_count": 29,
   "metadata": {
    "scrolled": true
   },
   "outputs": [
    {
     "name": "stderr",
     "output_type": "stream",
     "text": [
      "C:\\Users\\lenopo\\anaconda3\\envs\\python-cvcourse\\lib\\site-packages\\sklearn\\utils\\validation.py:475: DataConversionWarning: Data with input dtype int32 was converted to float64 by MinMaxScaler.\n",
      "  warnings.warn(msg, DataConversionWarning)\n"
     ]
    },
    {
     "data": {
      "text/plain": [
       "MinMaxScaler(copy=True, feature_range=(0, 1))"
      ]
     },
     "execution_count": 29,
     "metadata": {},
     "output_type": "execute_result"
    }
   ],
   "source": [
    "scaler_object.fit(X_train)\n",
    "# Compute the minimum and maximum value of data"
   ]
  },
  {
   "cell_type": "code",
   "execution_count": 30,
   "metadata": {},
   "outputs": [],
   "source": [
    "scaled_X_train = scaler_object.transform(X_train)"
   ]
  },
  {
   "cell_type": "code",
   "execution_count": 31,
   "metadata": {},
   "outputs": [],
   "source": [
    "scaled_X_test = scaler_object.transform(X_test)"
   ]
  },
  {
   "cell_type": "code",
   "execution_count": 32,
   "metadata": {},
   "outputs": [
    {
     "data": {
      "text/plain": [
       "array([[0.23728814, 0.        , 0.85714286, ..., 0.625     , 0.14285714,\n",
       "        0.16666667],\n",
       "       [0.52542373, 0.        , 0.85714286, ..., 0.5       , 0.57142857,\n",
       "        0.83333333],\n",
       "       [0.6440678 , 0.        , 0.14285714, ..., 0.        , 0.14285714,\n",
       "        0.33333333],\n",
       "       ...,\n",
       "       [0.37288136, 1.        , 0.        , ..., 0.125     , 1.        ,\n",
       "        0.16666667],\n",
       "       [0.59322034, 0.        , 0.57142857, ..., 1.        , 0.        ,\n",
       "        1.        ],\n",
       "       [0.59322034, 0.        , 0.57142857, ..., 1.        , 0.        ,\n",
       "        1.        ]])"
      ]
     },
     "execution_count": 32,
     "metadata": {},
     "output_type": "execute_result"
    }
   ],
   "source": [
    "scaled_X_train"
   ]
  },
  {
   "cell_type": "code",
   "execution_count": 34,
   "metadata": {},
   "outputs": [
    {
     "data": {
      "text/plain": [
       "0.0"
      ]
     },
     "execution_count": 34,
     "metadata": {},
     "output_type": "execute_result"
    }
   ],
   "source": [
    "scaled_X_train.min()"
   ]
  },
  {
   "cell_type": "code",
   "execution_count": 35,
   "metadata": {},
   "outputs": [],
   "source": [
    "from keras.models import Sequential\n",
    "from keras.layers import Dense"
   ]
  },
  {
   "cell_type": "code",
   "execution_count": 36,
   "metadata": {},
   "outputs": [],
   "source": [
    "model = Sequential()\n",
    "\n",
    "model.add(Dense(14, input_dim=14,activation='relu')) # relu = rectified linear unit\n",
    "\n",
    "model.add(Dense(28, activation='relu'))\n",
    "\n",
    "model.add(Dense(3, activation='sigmoid'))"
   ]
  },
  {
   "cell_type": "code",
   "execution_count": 37,
   "metadata": {},
   "outputs": [],
   "source": [
    "model.compile(loss='categorical_crossentropy', optimizer='adam',metrics=['accuracy'])"
   ]
  },
  {
   "cell_type": "code",
   "execution_count": 38,
   "metadata": {},
   "outputs": [
    {
     "name": "stdout",
     "output_type": "stream",
     "text": [
      "Epoch 1/50\n",
      " - 0s - loss: 1.0801 - acc: 0.5284\n",
      "Epoch 2/50\n",
      " - 0s - loss: 1.0440 - acc: 0.5731\n",
      "Epoch 3/50\n",
      " - 0s - loss: 1.0037 - acc: 0.5836\n",
      "Epoch 4/50\n",
      " - 0s - loss: 0.9491 - acc: 0.5836\n",
      "Epoch 5/50\n",
      " - 0s - loss: 0.8802 - acc: 0.6119\n",
      "Epoch 6/50\n",
      " - 0s - loss: 0.8092 - acc: 0.6194\n",
      "Epoch 7/50\n",
      " - 0s - loss: 0.7400 - acc: 0.6627\n",
      "Epoch 8/50\n",
      " - 0s - loss: 0.6761 - acc: 0.7269\n",
      "Epoch 9/50\n",
      " - 0s - loss: 0.6058 - acc: 0.7806\n",
      "Epoch 10/50\n",
      " - 0s - loss: 0.5378 - acc: 0.8284\n",
      "Epoch 11/50\n",
      " - 0s - loss: 0.4735 - acc: 0.8522\n",
      "Epoch 12/50\n",
      " - 0s - loss: 0.4190 - acc: 0.8627\n",
      "Epoch 13/50\n",
      " - 0s - loss: 0.3722 - acc: 0.8701\n",
      "Epoch 14/50\n",
      " - 0s - loss: 0.3308 - acc: 0.8925\n",
      "Epoch 15/50\n",
      " - 0s - loss: 0.3022 - acc: 0.8940\n",
      "Epoch 16/50\n",
      " - 0s - loss: 0.2727 - acc: 0.9075\n",
      "Epoch 17/50\n",
      " - 0s - loss: 0.2507 - acc: 0.9194\n",
      "Epoch 18/50\n",
      " - 0s - loss: 0.2305 - acc: 0.9209\n",
      "Epoch 19/50\n",
      " - 0s - loss: 0.2165 - acc: 0.9224\n",
      "Epoch 20/50\n",
      " - 0s - loss: 0.1988 - acc: 0.9328\n",
      "Epoch 21/50\n",
      " - 0s - loss: 0.1887 - acc: 0.9478\n",
      "Epoch 22/50\n",
      " - 0s - loss: 0.1740 - acc: 0.9493\n",
      "Epoch 23/50\n",
      " - 0s - loss: 0.1672 - acc: 0.9507\n",
      "Epoch 24/50\n",
      " - 0s - loss: 0.1565 - acc: 0.9522\n",
      "Epoch 25/50\n",
      " - 0s - loss: 0.1480 - acc: 0.9701\n",
      "Epoch 26/50\n",
      " - 0s - loss: 0.1418 - acc: 0.9701\n",
      "Epoch 27/50\n",
      " - 0s - loss: 0.1381 - acc: 0.9701\n",
      "Epoch 28/50\n",
      " - 0s - loss: 0.1339 - acc: 0.9701\n",
      "Epoch 29/50\n",
      " - 0s - loss: 0.1272 - acc: 0.9687\n",
      "Epoch 30/50\n",
      " - 0s - loss: 0.1214 - acc: 0.9731\n",
      "Epoch 31/50\n",
      " - 0s - loss: 0.1134 - acc: 0.9806\n",
      "Epoch 32/50\n",
      " - 0s - loss: 0.1081 - acc: 0.9836\n",
      "Epoch 33/50\n",
      " - 0s - loss: 0.1068 - acc: 0.9791\n",
      "Epoch 34/50\n",
      " - 0s - loss: 0.1027 - acc: 0.9791\n",
      "Epoch 35/50\n",
      " - 0s - loss: 0.0983 - acc: 0.9881\n",
      "Epoch 36/50\n",
      " - 0s - loss: 0.0951 - acc: 0.9881\n",
      "Epoch 37/50\n",
      " - 0s - loss: 0.0909 - acc: 0.9866\n",
      "Epoch 38/50\n",
      " - 0s - loss: 0.0879 - acc: 0.9910\n",
      "Epoch 39/50\n",
      " - 0s - loss: 0.0846 - acc: 0.9896\n",
      "Epoch 40/50\n",
      " - 0s - loss: 0.0826 - acc: 0.9866\n",
      "Epoch 41/50\n",
      " - 0s - loss: 0.0827 - acc: 0.9881\n",
      "Epoch 42/50\n",
      " - 0s - loss: 0.0770 - acc: 0.9925\n",
      "Epoch 43/50\n",
      " - 0s - loss: 0.0763 - acc: 0.9896\n",
      "Epoch 44/50\n",
      " - 0s - loss: 0.0742 - acc: 0.9896\n",
      "Epoch 45/50\n",
      " - 0s - loss: 0.0723 - acc: 0.9925\n",
      "Epoch 46/50\n",
      " - 0s - loss: 0.0693 - acc: 0.9925\n",
      "Epoch 47/50\n",
      " - 0s - loss: 0.0664 - acc: 0.9925\n",
      "Epoch 48/50\n",
      " - 0s - loss: 0.0645 - acc: 0.9910\n",
      "Epoch 49/50\n",
      " - 0s - loss: 0.0616 - acc: 0.9925\n",
      "Epoch 50/50\n",
      " - 0s - loss: 0.0641 - acc: 0.9896\n"
     ]
    },
    {
     "data": {
      "text/plain": [
       "<keras.callbacks.History at 0x184959e4198>"
      ]
     },
     "execution_count": 38,
     "metadata": {},
     "output_type": "execute_result"
    }
   ],
   "source": [
    "model.fit(scaled_X_train,y_train,epochs=50,verbose=2)"
   ]
  },
  {
   "cell_type": "code",
   "execution_count": 40,
   "metadata": {},
   "outputs": [],
   "source": [
    "# model.predict_classes(scaled_X_test)"
   ]
  },
  {
   "cell_type": "code",
   "execution_count": 41,
   "metadata": {},
   "outputs": [
    {
     "data": {
      "text/plain": [
       "['loss', 'acc']"
      ]
     },
     "execution_count": 41,
     "metadata": {},
     "output_type": "execute_result"
    }
   ],
   "source": [
    "model.metrics_names"
   ]
  },
  {
   "cell_type": "code",
   "execution_count": 42,
   "metadata": {},
   "outputs": [],
   "source": [
    "from sklearn.metrics import confusion_matrix, classification_report"
   ]
  },
  {
   "cell_type": "code",
   "execution_count": null,
   "metadata": {},
   "outputs": [],
   "source": [
    "scaled_X_test.shape"
   ]
  },
  {
   "cell_type": "code",
   "execution_count": 43,
   "metadata": {},
   "outputs": [],
   "source": [
    "predictions = model.predict_classes(scaled_X_test)"
   ]
  },
  {
   "cell_type": "code",
   "execution_count": 44,
   "metadata": {},
   "outputs": [
    {
     "data": {
      "text/plain": [
       "array([[ 91,   5,   0],\n",
       "       [  1, 105,   0],\n",
       "       [  0,   0, 128]], dtype=int64)"
      ]
     },
     "execution_count": 44,
     "metadata": {},
     "output_type": "execute_result"
    }
   ],
   "source": [
    "confusion_matrix(y_test,predictions)"
   ]
  },
  {
   "cell_type": "code",
   "execution_count": 45,
   "metadata": {},
   "outputs": [
    {
     "name": "stdout",
     "output_type": "stream",
     "text": [
      "             precision    recall  f1-score   support\n",
      "\n",
      "          0       0.99      0.95      0.97        96\n",
      "          1       0.95      0.99      0.97       106\n",
      "          2       1.00      1.00      1.00       128\n",
      "\n",
      "avg / total       0.98      0.98      0.98       330\n",
      "\n"
     ]
    }
   ],
   "source": [
    "print(classification_report(y_test,predictions))"
   ]
  },
  {
   "cell_type": "code",
   "execution_count": 46,
   "metadata": {},
   "outputs": [],
   "source": [
    "model.save('lungCancerClassificationModel.h5')"
   ]
  },
  {
   "cell_type": "code",
   "execution_count": 47,
   "metadata": {},
   "outputs": [],
   "source": [
    "from keras.models import load_model"
   ]
  },
  {
   "cell_type": "code",
   "execution_count": 48,
   "metadata": {},
   "outputs": [],
   "source": [
    "newmodel = load_model('lungCancerClassificationModel.h5')"
   ]
  },
  {
   "cell_type": "code",
   "execution_count": 49,
   "metadata": {},
   "outputs": [
    {
     "data": {
      "text/plain": [
       "array([1, 1, 1, 2, 1, 1, 1, 1, 1, 1, 0, 1, 1, 1, 0, 2, 0, 2, 2, 2, 2, 1,\n",
       "       0, 1, 2, 1, 1, 2, 0, 0, 0, 2, 1, 0, 0, 2, 2, 1, 2, 0, 2, 2, 0, 1,\n",
       "       1, 0, 0, 1, 2, 0, 1, 2, 1, 2, 2, 2, 0, 2, 2, 0, 1, 0, 2, 2, 0, 1,\n",
       "       2, 2, 1, 2, 2, 0, 1, 1, 1, 1, 2, 1, 0, 1, 1, 1, 0, 1, 2, 2, 2, 0,\n",
       "       2, 2, 0, 0, 1, 2, 2, 2, 2, 2, 1, 0, 0, 2, 0, 0, 1, 2, 2, 1, 1, 1,\n",
       "       1, 2, 2, 1, 1, 2, 1, 2, 1, 1, 2, 2, 0, 0, 1, 2, 2, 2, 2, 2, 0, 1,\n",
       "       0, 2, 1, 0, 1, 2, 1, 1, 0, 1, 0, 0, 2, 1, 0, 2, 0, 2, 2, 0, 0, 2,\n",
       "       0, 2, 2, 2, 0, 2, 0, 2, 2, 2, 2, 1, 1, 2, 2, 2, 2, 1, 2, 2, 0, 2,\n",
       "       1, 0, 1, 2, 0, 2, 0, 1, 2, 1, 2, 1, 0, 1, 0, 0, 1, 2, 2, 1, 2, 2,\n",
       "       0, 1, 1, 2, 1, 1, 0, 0, 0, 2, 0, 0, 1, 2, 0, 0, 2, 2, 2, 1, 1, 0,\n",
       "       1, 2, 2, 0, 1, 2, 2, 2, 1, 2, 2, 2, 0, 2, 0, 2, 1, 1, 1, 2, 2, 2,\n",
       "       1, 2, 1, 2, 2, 1, 1, 1, 1, 2, 1, 0, 1, 0, 1, 2, 0, 2, 1, 2, 2, 0,\n",
       "       0, 2, 2, 0, 1, 0, 1, 0, 1, 2, 1, 0, 1, 0, 1, 0, 1, 2, 2, 0, 2, 0,\n",
       "       1, 2, 2, 0, 0, 1, 1, 2, 1, 0, 0, 2, 0, 0, 2, 2, 0, 2, 0, 0, 1, 2,\n",
       "       2, 1, 1, 1, 1, 0, 2, 1, 0, 1, 0, 0, 2, 0, 1, 1, 2, 0, 1, 0, 0, 2],\n",
       "      dtype=int64)"
      ]
     },
     "execution_count": 49,
     "metadata": {},
     "output_type": "execute_result"
    }
   ],
   "source": [
    "newmodel.predict_classes(scaled_X_test)"
   ]
  },
  {
   "cell_type": "code",
   "execution_count": null,
   "metadata": {},
   "outputs": [],
   "source": []
  }
 ],
 "metadata": {
  "kernelspec": {
   "display_name": "Python 3",
   "language": "python",
   "name": "python3"
  },
  "language_info": {
   "codemirror_mode": {
    "name": "ipython",
    "version": 3
   },
   "file_extension": ".py",
   "mimetype": "text/x-python",
   "name": "python",
   "nbconvert_exporter": "python",
   "pygments_lexer": "ipython3",
   "version": "3.6.6"
  }
 },
 "nbformat": 4,
 "nbformat_minor": 5
}
