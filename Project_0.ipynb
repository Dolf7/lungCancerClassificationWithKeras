{
 "cells": [
  {
   "cell_type": "code",
   "execution_count": 62,
   "metadata": {
    "scrolled": true
   },
   "outputs": [],
   "source": [
    "import numpy as np\n",
    "import pandas as pd\n",
    "from sklearn.model_selection import train_test_split\n",
    "from sklearn.preprocessing import MinMaxScaler\n",
    "from keras.utils import to_categorical"
   ]
  },
  {
   "cell_type": "code",
   "execution_count": 63,
   "metadata": {},
   "outputs": [],
   "source": [
    "data = pd.read_csv('lung_cancer_patient_datasets.csv')"
   ]
  },
  {
   "cell_type": "code",
   "execution_count": 184,
   "metadata": {},
   "outputs": [
    {
     "data": {
      "text/html": [
       "<div>\n",
       "<style scoped>\n",
       "    .dataframe tbody tr th:only-of-type {\n",
       "        vertical-align: middle;\n",
       "    }\n",
       "\n",
       "    .dataframe tbody tr th {\n",
       "        vertical-align: top;\n",
       "    }\n",
       "\n",
       "    .dataframe thead th {\n",
       "        text-align: right;\n",
       "    }\n",
       "</style>\n",
       "<table border=\"1\" class=\"dataframe\">\n",
       "  <thead>\n",
       "    <tr style=\"text-align: right;\">\n",
       "      <th></th>\n",
       "      <th>Patient Id</th>\n",
       "      <th>Age</th>\n",
       "      <th>Gender</th>\n",
       "      <th>Alcohol use</th>\n",
       "      <th>OccuPational Hazards</th>\n",
       "      <th>Genetic Risk</th>\n",
       "      <th>chronic Lung Disease</th>\n",
       "      <th>Obesity</th>\n",
       "      <th>Smoking</th>\n",
       "      <th>Chest Pain</th>\n",
       "      <th>Coughing of Blood</th>\n",
       "      <th>Fatigue</th>\n",
       "      <th>Shortness of Breath</th>\n",
       "      <th>Swallowing Difficulty</th>\n",
       "      <th>Dry Cough</th>\n",
       "      <th>Level</th>\n",
       "    </tr>\n",
       "  </thead>\n",
       "  <tbody>\n",
       "    <tr>\n",
       "      <th>0</th>\n",
       "      <td>P1</td>\n",
       "      <td>33</td>\n",
       "      <td>1</td>\n",
       "      <td>4</td>\n",
       "      <td>4</td>\n",
       "      <td>3</td>\n",
       "      <td>2</td>\n",
       "      <td>4</td>\n",
       "      <td>3</td>\n",
       "      <td>2</td>\n",
       "      <td>4</td>\n",
       "      <td>3</td>\n",
       "      <td>2</td>\n",
       "      <td>3</td>\n",
       "      <td>3</td>\n",
       "      <td>Low</td>\n",
       "    </tr>\n",
       "    <tr>\n",
       "      <th>1</th>\n",
       "      <td>P10</td>\n",
       "      <td>17</td>\n",
       "      <td>1</td>\n",
       "      <td>1</td>\n",
       "      <td>3</td>\n",
       "      <td>4</td>\n",
       "      <td>2</td>\n",
       "      <td>2</td>\n",
       "      <td>2</td>\n",
       "      <td>2</td>\n",
       "      <td>3</td>\n",
       "      <td>1</td>\n",
       "      <td>7</td>\n",
       "      <td>6</td>\n",
       "      <td>7</td>\n",
       "      <td>Medium</td>\n",
       "    </tr>\n",
       "    <tr>\n",
       "      <th>2</th>\n",
       "      <td>P100</td>\n",
       "      <td>35</td>\n",
       "      <td>1</td>\n",
       "      <td>5</td>\n",
       "      <td>5</td>\n",
       "      <td>5</td>\n",
       "      <td>4</td>\n",
       "      <td>7</td>\n",
       "      <td>2</td>\n",
       "      <td>4</td>\n",
       "      <td>8</td>\n",
       "      <td>8</td>\n",
       "      <td>9</td>\n",
       "      <td>1</td>\n",
       "      <td>7</td>\n",
       "      <td>High</td>\n",
       "    </tr>\n",
       "    <tr>\n",
       "      <th>3</th>\n",
       "      <td>P1000</td>\n",
       "      <td>37</td>\n",
       "      <td>1</td>\n",
       "      <td>7</td>\n",
       "      <td>7</td>\n",
       "      <td>6</td>\n",
       "      <td>7</td>\n",
       "      <td>7</td>\n",
       "      <td>7</td>\n",
       "      <td>7</td>\n",
       "      <td>8</td>\n",
       "      <td>4</td>\n",
       "      <td>3</td>\n",
       "      <td>4</td>\n",
       "      <td>7</td>\n",
       "      <td>High</td>\n",
       "    </tr>\n",
       "    <tr>\n",
       "      <th>4</th>\n",
       "      <td>P101</td>\n",
       "      <td>46</td>\n",
       "      <td>1</td>\n",
       "      <td>8</td>\n",
       "      <td>7</td>\n",
       "      <td>7</td>\n",
       "      <td>6</td>\n",
       "      <td>7</td>\n",
       "      <td>8</td>\n",
       "      <td>7</td>\n",
       "      <td>9</td>\n",
       "      <td>3</td>\n",
       "      <td>4</td>\n",
       "      <td>4</td>\n",
       "      <td>2</td>\n",
       "      <td>High</td>\n",
       "    </tr>\n",
       "    <tr>\n",
       "      <th>...</th>\n",
       "      <td>...</td>\n",
       "      <td>...</td>\n",
       "      <td>...</td>\n",
       "      <td>...</td>\n",
       "      <td>...</td>\n",
       "      <td>...</td>\n",
       "      <td>...</td>\n",
       "      <td>...</td>\n",
       "      <td>...</td>\n",
       "      <td>...</td>\n",
       "      <td>...</td>\n",
       "      <td>...</td>\n",
       "      <td>...</td>\n",
       "      <td>...</td>\n",
       "      <td>...</td>\n",
       "      <td>...</td>\n",
       "    </tr>\n",
       "    <tr>\n",
       "      <th>995</th>\n",
       "      <td>P995</td>\n",
       "      <td>44</td>\n",
       "      <td>1</td>\n",
       "      <td>7</td>\n",
       "      <td>7</td>\n",
       "      <td>7</td>\n",
       "      <td>6</td>\n",
       "      <td>7</td>\n",
       "      <td>7</td>\n",
       "      <td>7</td>\n",
       "      <td>7</td>\n",
       "      <td>5</td>\n",
       "      <td>2</td>\n",
       "      <td>8</td>\n",
       "      <td>5</td>\n",
       "      <td>High</td>\n",
       "    </tr>\n",
       "    <tr>\n",
       "      <th>996</th>\n",
       "      <td>P996</td>\n",
       "      <td>37</td>\n",
       "      <td>2</td>\n",
       "      <td>8</td>\n",
       "      <td>7</td>\n",
       "      <td>7</td>\n",
       "      <td>6</td>\n",
       "      <td>7</td>\n",
       "      <td>7</td>\n",
       "      <td>7</td>\n",
       "      <td>7</td>\n",
       "      <td>9</td>\n",
       "      <td>5</td>\n",
       "      <td>2</td>\n",
       "      <td>1</td>\n",
       "      <td>High</td>\n",
       "    </tr>\n",
       "    <tr>\n",
       "      <th>997</th>\n",
       "      <td>P997</td>\n",
       "      <td>25</td>\n",
       "      <td>2</td>\n",
       "      <td>5</td>\n",
       "      <td>5</td>\n",
       "      <td>5</td>\n",
       "      <td>4</td>\n",
       "      <td>7</td>\n",
       "      <td>2</td>\n",
       "      <td>4</td>\n",
       "      <td>8</td>\n",
       "      <td>8</td>\n",
       "      <td>9</td>\n",
       "      <td>1</td>\n",
       "      <td>7</td>\n",
       "      <td>High</td>\n",
       "    </tr>\n",
       "    <tr>\n",
       "      <th>998</th>\n",
       "      <td>P998</td>\n",
       "      <td>18</td>\n",
       "      <td>2</td>\n",
       "      <td>8</td>\n",
       "      <td>7</td>\n",
       "      <td>7</td>\n",
       "      <td>6</td>\n",
       "      <td>7</td>\n",
       "      <td>8</td>\n",
       "      <td>7</td>\n",
       "      <td>9</td>\n",
       "      <td>3</td>\n",
       "      <td>4</td>\n",
       "      <td>4</td>\n",
       "      <td>2</td>\n",
       "      <td>High</td>\n",
       "    </tr>\n",
       "    <tr>\n",
       "      <th>999</th>\n",
       "      <td>P999</td>\n",
       "      <td>47</td>\n",
       "      <td>1</td>\n",
       "      <td>5</td>\n",
       "      <td>5</td>\n",
       "      <td>5</td>\n",
       "      <td>4</td>\n",
       "      <td>7</td>\n",
       "      <td>2</td>\n",
       "      <td>4</td>\n",
       "      <td>8</td>\n",
       "      <td>8</td>\n",
       "      <td>9</td>\n",
       "      <td>1</td>\n",
       "      <td>7</td>\n",
       "      <td>High</td>\n",
       "    </tr>\n",
       "  </tbody>\n",
       "</table>\n",
       "<p>1000 rows × 16 columns</p>\n",
       "</div>"
      ],
      "text/plain": [
       "    Patient Id  Age  Gender  Alcohol use  OccuPational Hazards  Genetic Risk  \\\n",
       "0           P1   33       1            4                     4             3   \n",
       "1          P10   17       1            1                     3             4   \n",
       "2         P100   35       1            5                     5             5   \n",
       "3        P1000   37       1            7                     7             6   \n",
       "4         P101   46       1            8                     7             7   \n",
       "..         ...  ...     ...          ...                   ...           ...   \n",
       "995       P995   44       1            7                     7             7   \n",
       "996       P996   37       2            8                     7             7   \n",
       "997       P997   25       2            5                     5             5   \n",
       "998       P998   18       2            8                     7             7   \n",
       "999       P999   47       1            5                     5             5   \n",
       "\n",
       "     chronic Lung Disease  Obesity  Smoking  Chest Pain  Coughing of Blood  \\\n",
       "0                       2        4        3           2                  4   \n",
       "1                       2        2        2           2                  3   \n",
       "2                       4        7        2           4                  8   \n",
       "3                       7        7        7           7                  8   \n",
       "4                       6        7        8           7                  9   \n",
       "..                    ...      ...      ...         ...                ...   \n",
       "995                     6        7        7           7                  7   \n",
       "996                     6        7        7           7                  7   \n",
       "997                     4        7        2           4                  8   \n",
       "998                     6        7        8           7                  9   \n",
       "999                     4        7        2           4                  8   \n",
       "\n",
       "     Fatigue  Shortness of Breath  Swallowing Difficulty  Dry Cough   Level  \n",
       "0          3                    2                      3          3     Low  \n",
       "1          1                    7                      6          7  Medium  \n",
       "2          8                    9                      1          7    High  \n",
       "3          4                    3                      4          7    High  \n",
       "4          3                    4                      4          2    High  \n",
       "..       ...                  ...                    ...        ...     ...  \n",
       "995        5                    2                      8          5    High  \n",
       "996        9                    5                      2          1    High  \n",
       "997        8                    9                      1          7    High  \n",
       "998        3                    4                      4          2    High  \n",
       "999        8                    9                      1          7    High  \n",
       "\n",
       "[1000 rows x 16 columns]"
      ]
     },
     "execution_count": 184,
     "metadata": {},
     "output_type": "execute_result"
    }
   ],
   "source": [
    "data"
   ]
  },
  {
   "cell_type": "code",
   "execution_count": 65,
   "metadata": {},
   "outputs": [],
   "source": [
    "labels = data['Level']\n",
    "labels = labels.tolist()"
   ]
  },
  {
   "cell_type": "code",
   "execution_count": 66,
   "metadata": {},
   "outputs": [
    {
     "data": {
      "text/plain": [
       "list"
      ]
     },
     "execution_count": 66,
     "metadata": {},
     "output_type": "execute_result"
    }
   ],
   "source": [
    "type(labels)"
   ]
  },
  {
   "cell_type": "code",
   "execution_count": 67,
   "metadata": {},
   "outputs": [],
   "source": [
    "labels_num = []\n",
    "for i in labels:\n",
    "    if(i == 'Low'):\n",
    "        labels_num.append(0)\n",
    "    elif (i == 'Medium'):\n",
    "        labels_num.append(1)\n",
    "    else:\n",
    "        labels_num.append(2)"
   ]
  },
  {
   "cell_type": "code",
   "execution_count": 68,
   "metadata": {},
   "outputs": [],
   "source": [
    "labels_num = np.array(labels_num)"
   ]
  },
  {
   "cell_type": "code",
   "execution_count": 69,
   "metadata": {},
   "outputs": [
    {
     "data": {
      "text/plain": [
       "(1000,)"
      ]
     },
     "execution_count": 69,
     "metadata": {},
     "output_type": "execute_result"
    }
   ],
   "source": [
    "labels_num.shape"
   ]
  },
  {
   "cell_type": "code",
   "execution_count": 145,
   "metadata": {},
   "outputs": [],
   "source": [
    "features = data[data.columns[1:15]]"
   ]
  },
  {
   "cell_type": "code",
   "execution_count": 146,
   "metadata": {},
   "outputs": [
    {
     "data": {
      "text/html": [
       "<div>\n",
       "<style scoped>\n",
       "    .dataframe tbody tr th:only-of-type {\n",
       "        vertical-align: middle;\n",
       "    }\n",
       "\n",
       "    .dataframe tbody tr th {\n",
       "        vertical-align: top;\n",
       "    }\n",
       "\n",
       "    .dataframe thead th {\n",
       "        text-align: right;\n",
       "    }\n",
       "</style>\n",
       "<table border=\"1\" class=\"dataframe\">\n",
       "  <thead>\n",
       "    <tr style=\"text-align: right;\">\n",
       "      <th></th>\n",
       "      <th>Age</th>\n",
       "      <th>Gender</th>\n",
       "      <th>Alcohol use</th>\n",
       "      <th>OccuPational Hazards</th>\n",
       "      <th>Genetic Risk</th>\n",
       "      <th>chronic Lung Disease</th>\n",
       "      <th>Obesity</th>\n",
       "      <th>Smoking</th>\n",
       "      <th>Chest Pain</th>\n",
       "      <th>Coughing of Blood</th>\n",
       "      <th>Fatigue</th>\n",
       "      <th>Shortness of Breath</th>\n",
       "      <th>Swallowing Difficulty</th>\n",
       "      <th>Dry Cough</th>\n",
       "    </tr>\n",
       "  </thead>\n",
       "  <tbody>\n",
       "    <tr>\n",
       "      <th>0</th>\n",
       "      <td>33</td>\n",
       "      <td>1</td>\n",
       "      <td>4</td>\n",
       "      <td>4</td>\n",
       "      <td>3</td>\n",
       "      <td>2</td>\n",
       "      <td>4</td>\n",
       "      <td>3</td>\n",
       "      <td>2</td>\n",
       "      <td>4</td>\n",
       "      <td>3</td>\n",
       "      <td>2</td>\n",
       "      <td>3</td>\n",
       "      <td>3</td>\n",
       "    </tr>\n",
       "    <tr>\n",
       "      <th>1</th>\n",
       "      <td>17</td>\n",
       "      <td>1</td>\n",
       "      <td>1</td>\n",
       "      <td>3</td>\n",
       "      <td>4</td>\n",
       "      <td>2</td>\n",
       "      <td>2</td>\n",
       "      <td>2</td>\n",
       "      <td>2</td>\n",
       "      <td>3</td>\n",
       "      <td>1</td>\n",
       "      <td>7</td>\n",
       "      <td>6</td>\n",
       "      <td>7</td>\n",
       "    </tr>\n",
       "    <tr>\n",
       "      <th>2</th>\n",
       "      <td>35</td>\n",
       "      <td>1</td>\n",
       "      <td>5</td>\n",
       "      <td>5</td>\n",
       "      <td>5</td>\n",
       "      <td>4</td>\n",
       "      <td>7</td>\n",
       "      <td>2</td>\n",
       "      <td>4</td>\n",
       "      <td>8</td>\n",
       "      <td>8</td>\n",
       "      <td>9</td>\n",
       "      <td>1</td>\n",
       "      <td>7</td>\n",
       "    </tr>\n",
       "    <tr>\n",
       "      <th>3</th>\n",
       "      <td>37</td>\n",
       "      <td>1</td>\n",
       "      <td>7</td>\n",
       "      <td>7</td>\n",
       "      <td>6</td>\n",
       "      <td>7</td>\n",
       "      <td>7</td>\n",
       "      <td>7</td>\n",
       "      <td>7</td>\n",
       "      <td>8</td>\n",
       "      <td>4</td>\n",
       "      <td>3</td>\n",
       "      <td>4</td>\n",
       "      <td>7</td>\n",
       "    </tr>\n",
       "    <tr>\n",
       "      <th>4</th>\n",
       "      <td>46</td>\n",
       "      <td>1</td>\n",
       "      <td>8</td>\n",
       "      <td>7</td>\n",
       "      <td>7</td>\n",
       "      <td>6</td>\n",
       "      <td>7</td>\n",
       "      <td>8</td>\n",
       "      <td>7</td>\n",
       "      <td>9</td>\n",
       "      <td>3</td>\n",
       "      <td>4</td>\n",
       "      <td>4</td>\n",
       "      <td>2</td>\n",
       "    </tr>\n",
       "    <tr>\n",
       "      <th>...</th>\n",
       "      <td>...</td>\n",
       "      <td>...</td>\n",
       "      <td>...</td>\n",
       "      <td>...</td>\n",
       "      <td>...</td>\n",
       "      <td>...</td>\n",
       "      <td>...</td>\n",
       "      <td>...</td>\n",
       "      <td>...</td>\n",
       "      <td>...</td>\n",
       "      <td>...</td>\n",
       "      <td>...</td>\n",
       "      <td>...</td>\n",
       "      <td>...</td>\n",
       "    </tr>\n",
       "    <tr>\n",
       "      <th>995</th>\n",
       "      <td>44</td>\n",
       "      <td>1</td>\n",
       "      <td>7</td>\n",
       "      <td>7</td>\n",
       "      <td>7</td>\n",
       "      <td>6</td>\n",
       "      <td>7</td>\n",
       "      <td>7</td>\n",
       "      <td>7</td>\n",
       "      <td>7</td>\n",
       "      <td>5</td>\n",
       "      <td>2</td>\n",
       "      <td>8</td>\n",
       "      <td>5</td>\n",
       "    </tr>\n",
       "    <tr>\n",
       "      <th>996</th>\n",
       "      <td>37</td>\n",
       "      <td>2</td>\n",
       "      <td>8</td>\n",
       "      <td>7</td>\n",
       "      <td>7</td>\n",
       "      <td>6</td>\n",
       "      <td>7</td>\n",
       "      <td>7</td>\n",
       "      <td>7</td>\n",
       "      <td>7</td>\n",
       "      <td>9</td>\n",
       "      <td>5</td>\n",
       "      <td>2</td>\n",
       "      <td>1</td>\n",
       "    </tr>\n",
       "    <tr>\n",
       "      <th>997</th>\n",
       "      <td>25</td>\n",
       "      <td>2</td>\n",
       "      <td>5</td>\n",
       "      <td>5</td>\n",
       "      <td>5</td>\n",
       "      <td>4</td>\n",
       "      <td>7</td>\n",
       "      <td>2</td>\n",
       "      <td>4</td>\n",
       "      <td>8</td>\n",
       "      <td>8</td>\n",
       "      <td>9</td>\n",
       "      <td>1</td>\n",
       "      <td>7</td>\n",
       "    </tr>\n",
       "    <tr>\n",
       "      <th>998</th>\n",
       "      <td>18</td>\n",
       "      <td>2</td>\n",
       "      <td>8</td>\n",
       "      <td>7</td>\n",
       "      <td>7</td>\n",
       "      <td>6</td>\n",
       "      <td>7</td>\n",
       "      <td>8</td>\n",
       "      <td>7</td>\n",
       "      <td>9</td>\n",
       "      <td>3</td>\n",
       "      <td>4</td>\n",
       "      <td>4</td>\n",
       "      <td>2</td>\n",
       "    </tr>\n",
       "    <tr>\n",
       "      <th>999</th>\n",
       "      <td>47</td>\n",
       "      <td>1</td>\n",
       "      <td>5</td>\n",
       "      <td>5</td>\n",
       "      <td>5</td>\n",
       "      <td>4</td>\n",
       "      <td>7</td>\n",
       "      <td>2</td>\n",
       "      <td>4</td>\n",
       "      <td>8</td>\n",
       "      <td>8</td>\n",
       "      <td>9</td>\n",
       "      <td>1</td>\n",
       "      <td>7</td>\n",
       "    </tr>\n",
       "  </tbody>\n",
       "</table>\n",
       "<p>1000 rows × 14 columns</p>\n",
       "</div>"
      ],
      "text/plain": [
       "     Age  Gender  Alcohol use  OccuPational Hazards  Genetic Risk  \\\n",
       "0     33       1            4                     4             3   \n",
       "1     17       1            1                     3             4   \n",
       "2     35       1            5                     5             5   \n",
       "3     37       1            7                     7             6   \n",
       "4     46       1            8                     7             7   \n",
       "..   ...     ...          ...                   ...           ...   \n",
       "995   44       1            7                     7             7   \n",
       "996   37       2            8                     7             7   \n",
       "997   25       2            5                     5             5   \n",
       "998   18       2            8                     7             7   \n",
       "999   47       1            5                     5             5   \n",
       "\n",
       "     chronic Lung Disease  Obesity  Smoking  Chest Pain  Coughing of Blood  \\\n",
       "0                       2        4        3           2                  4   \n",
       "1                       2        2        2           2                  3   \n",
       "2                       4        7        2           4                  8   \n",
       "3                       7        7        7           7                  8   \n",
       "4                       6        7        8           7                  9   \n",
       "..                    ...      ...      ...         ...                ...   \n",
       "995                     6        7        7           7                  7   \n",
       "996                     6        7        7           7                  7   \n",
       "997                     4        7        2           4                  8   \n",
       "998                     6        7        8           7                  9   \n",
       "999                     4        7        2           4                  8   \n",
       "\n",
       "     Fatigue  Shortness of Breath  Swallowing Difficulty  Dry Cough  \n",
       "0          3                    2                      3          3  \n",
       "1          1                    7                      6          7  \n",
       "2          8                    9                      1          7  \n",
       "3          4                    3                      4          7  \n",
       "4          3                    4                      4          2  \n",
       "..       ...                  ...                    ...        ...  \n",
       "995        5                    2                      8          5  \n",
       "996        9                    5                      2          1  \n",
       "997        8                    9                      1          7  \n",
       "998        3                    4                      4          2  \n",
       "999        8                    9                      1          7  \n",
       "\n",
       "[1000 rows x 14 columns]"
      ]
     },
     "execution_count": 146,
     "metadata": {},
     "output_type": "execute_result"
    }
   ],
   "source": [
    "features"
   ]
  },
  {
   "cell_type": "code",
   "execution_count": 147,
   "metadata": {},
   "outputs": [
    {
     "data": {
      "text/plain": [
       "pandas.core.frame.DataFrame"
      ]
     },
     "execution_count": 147,
     "metadata": {},
     "output_type": "execute_result"
    }
   ],
   "source": [
    "type(features)"
   ]
  },
  {
   "cell_type": "code",
   "execution_count": 148,
   "metadata": {},
   "outputs": [],
   "source": [
    "features= features.values.tolist()"
   ]
  },
  {
   "cell_type": "code",
   "execution_count": 149,
   "metadata": {},
   "outputs": [],
   "source": [
    "features = np.array(features)"
   ]
  },
  {
   "cell_type": "code",
   "execution_count": 150,
   "metadata": {},
   "outputs": [
    {
     "data": {
      "text/plain": [
       "array([[33,  1,  4, ...,  2,  3,  3],\n",
       "       [17,  1,  1, ...,  7,  6,  7],\n",
       "       [35,  1,  5, ...,  9,  1,  7],\n",
       "       ...,\n",
       "       [25,  2,  5, ...,  9,  1,  7],\n",
       "       [18,  2,  8, ...,  4,  4,  2],\n",
       "       [47,  1,  5, ...,  9,  1,  7]])"
      ]
     },
     "execution_count": 150,
     "metadata": {},
     "output_type": "execute_result"
    }
   ],
   "source": [
    "features"
   ]
  },
  {
   "cell_type": "code",
   "execution_count": 151,
   "metadata": {},
   "outputs": [
    {
     "data": {
      "text/plain": [
       "1000"
      ]
     },
     "execution_count": 151,
     "metadata": {},
     "output_type": "execute_result"
    }
   ],
   "source": [
    "len(labels_num)"
   ]
  },
  {
   "cell_type": "code",
   "execution_count": 152,
   "metadata": {},
   "outputs": [
    {
     "data": {
      "text/plain": [
       "1000"
      ]
     },
     "execution_count": 152,
     "metadata": {},
     "output_type": "execute_result"
    }
   ],
   "source": [
    "len(features)"
   ]
  },
  {
   "cell_type": "code",
   "execution_count": 153,
   "metadata": {},
   "outputs": [],
   "source": [
    "X = features\n",
    "y = labels_num"
   ]
  },
  {
   "cell_type": "code",
   "execution_count": 154,
   "metadata": {},
   "outputs": [
    {
     "data": {
      "text/plain": [
       "(1000, 14)"
      ]
     },
     "execution_count": 154,
     "metadata": {},
     "output_type": "execute_result"
    }
   ],
   "source": [
    "X.shape"
   ]
  },
  {
   "cell_type": "code",
   "execution_count": 155,
   "metadata": {},
   "outputs": [],
   "source": [
    "X_train, X_test, y_train, y_test = train_test_split(X, y, test_size=0.33, random_state=42)"
   ]
  },
  {
   "cell_type": "code",
   "execution_count": 156,
   "metadata": {},
   "outputs": [],
   "source": [
    "y_train = to_categorical(y_train, num_classes=3)"
   ]
  },
  {
   "cell_type": "code",
   "execution_count": 157,
   "metadata": {},
   "outputs": [
    {
     "data": {
      "text/plain": [
       "670"
      ]
     },
     "execution_count": 157,
     "metadata": {},
     "output_type": "execute_result"
    }
   ],
   "source": [
    "len(X_train)"
   ]
  },
  {
   "cell_type": "code",
   "execution_count": 158,
   "metadata": {},
   "outputs": [
    {
     "data": {
      "text/plain": [
       "330"
      ]
     },
     "execution_count": 158,
     "metadata": {},
     "output_type": "execute_result"
    }
   ],
   "source": [
    "len(X_test)"
   ]
  },
  {
   "cell_type": "code",
   "execution_count": 159,
   "metadata": {},
   "outputs": [
    {
     "data": {
      "text/plain": [
       "670"
      ]
     },
     "execution_count": 159,
     "metadata": {},
     "output_type": "execute_result"
    }
   ],
   "source": [
    "len(y_train)"
   ]
  },
  {
   "cell_type": "code",
   "execution_count": 160,
   "metadata": {},
   "outputs": [
    {
     "data": {
      "text/plain": [
       "330"
      ]
     },
     "execution_count": 160,
     "metadata": {},
     "output_type": "execute_result"
    }
   ],
   "source": [
    "len(y_test)"
   ]
  },
  {
   "cell_type": "code",
   "execution_count": 161,
   "metadata": {},
   "outputs": [],
   "source": [
    "# Normalisasi Data\n",
    "scaler_object = MinMaxScaler()"
   ]
  },
  {
   "cell_type": "code",
   "execution_count": 162,
   "metadata": {
    "scrolled": true
   },
   "outputs": [
    {
     "name": "stderr",
     "output_type": "stream",
     "text": [
      "C:\\Users\\lenopo\\anaconda3\\envs\\python-cvcourse\\lib\\site-packages\\sklearn\\utils\\validation.py:475: DataConversionWarning: Data with input dtype int32 was converted to float64 by MinMaxScaler.\n",
      "  warnings.warn(msg, DataConversionWarning)\n"
     ]
    },
    {
     "data": {
      "text/plain": [
       "MinMaxScaler(copy=True, feature_range=(0, 1))"
      ]
     },
     "execution_count": 162,
     "metadata": {},
     "output_type": "execute_result"
    }
   ],
   "source": [
    "scaler_object.fit(X_train)\n",
    "# Compute the minimum and maximum value of data"
   ]
  },
  {
   "cell_type": "code",
   "execution_count": 163,
   "metadata": {},
   "outputs": [
    {
     "data": {
      "text/plain": [
       "MinMaxScaler(copy=True, feature_range=(0, 1))"
      ]
     },
     "execution_count": 163,
     "metadata": {},
     "output_type": "execute_result"
    }
   ],
   "source": [
    "scaler_object"
   ]
  },
  {
   "cell_type": "code",
   "execution_count": 164,
   "metadata": {},
   "outputs": [],
   "source": [
    "scaled_X_train = scaler_object.transform(X_train)"
   ]
  },
  {
   "cell_type": "code",
   "execution_count": 165,
   "metadata": {},
   "outputs": [],
   "source": [
    "scaled_X_test = scaler_object.transform(X_test)"
   ]
  },
  {
   "cell_type": "code",
   "execution_count": 166,
   "metadata": {},
   "outputs": [
    {
     "data": {
      "text/plain": [
       "(670, 14)"
      ]
     },
     "execution_count": 166,
     "metadata": {},
     "output_type": "execute_result"
    }
   ],
   "source": [
    "scaled_X_train.shape"
   ]
  },
  {
   "cell_type": "code",
   "execution_count": 167,
   "metadata": {},
   "outputs": [
    {
     "data": {
      "text/plain": [
       "(330, 14)"
      ]
     },
     "execution_count": 167,
     "metadata": {},
     "output_type": "execute_result"
    }
   ],
   "source": [
    "scaled_X_test.shape"
   ]
  },
  {
   "cell_type": "code",
   "execution_count": 168,
   "metadata": {
    "scrolled": true
   },
   "outputs": [
    {
     "data": {
      "text/plain": [
       "(670, 3)"
      ]
     },
     "execution_count": 168,
     "metadata": {},
     "output_type": "execute_result"
    }
   ],
   "source": [
    "y_train.shape"
   ]
  },
  {
   "cell_type": "code",
   "execution_count": 169,
   "metadata": {},
   "outputs": [
    {
     "data": {
      "text/plain": [
       "(330,)"
      ]
     },
     "execution_count": 169,
     "metadata": {},
     "output_type": "execute_result"
    }
   ],
   "source": [
    "y_test.shape"
   ]
  },
  {
   "cell_type": "code",
   "execution_count": 170,
   "metadata": {},
   "outputs": [],
   "source": [
    "from keras.models import Sequential\n",
    "from keras.layers import Dense"
   ]
  },
  {
   "cell_type": "code",
   "execution_count": 171,
   "metadata": {},
   "outputs": [],
   "source": [
    "model = Sequential()\n",
    "\n",
    "model.add(Dense(14, input_dim=14,activation='relu')) # relu = rectified linear unit\n",
    "\n",
    "model.add(Dense(26, activation='relu'))\n",
    "\n",
    "model.add(Dense(3, activation='sigmoid'))"
   ]
  },
  {
   "cell_type": "code",
   "execution_count": 172,
   "metadata": {},
   "outputs": [],
   "source": [
    "model.compile(loss='categorical_crossentropy', optimizer='adam',metrics=['accuracy'])"
   ]
  },
  {
   "cell_type": "code",
   "execution_count": 173,
   "metadata": {},
   "outputs": [
    {
     "name": "stdout",
     "output_type": "stream",
     "text": [
      "Epoch 1/50\n",
      " - 0s - loss: 1.0787 - acc: 0.5328\n",
      "Epoch 2/50\n",
      " - 0s - loss: 1.0214 - acc: 0.6104\n",
      "Epoch 3/50\n",
      " - 0s - loss: 0.9645 - acc: 0.5552\n",
      "Epoch 4/50\n",
      " - 0s - loss: 0.8993 - acc: 0.5612\n",
      "Epoch 5/50\n",
      " - 0s - loss: 0.8269 - acc: 0.6791\n",
      "Epoch 6/50\n",
      " - 0s - loss: 0.7539 - acc: 0.7642\n",
      "Epoch 7/50\n",
      " - 0s - loss: 0.6841 - acc: 0.7866\n",
      "Epoch 8/50\n",
      " - 0s - loss: 0.6198 - acc: 0.7896\n",
      "Epoch 9/50\n",
      " - 0s - loss: 0.5630 - acc: 0.8209\n",
      "Epoch 10/50\n",
      " - 0s - loss: 0.5078 - acc: 0.8388\n",
      "Epoch 11/50\n",
      " - 0s - loss: 0.4568 - acc: 0.8493\n",
      "Epoch 12/50\n",
      " - 0s - loss: 0.4161 - acc: 0.8448\n",
      "Epoch 13/50\n",
      " - 0s - loss: 0.3795 - acc: 0.8642\n",
      "Epoch 14/50\n",
      " - 0s - loss: 0.3505 - acc: 0.8716\n",
      "Epoch 15/50\n",
      " - 0s - loss: 0.3268 - acc: 0.8910\n",
      "Epoch 16/50\n",
      " - 0s - loss: 0.3025 - acc: 0.9015\n",
      "Epoch 17/50\n",
      " - 0s - loss: 0.2853 - acc: 0.9119\n",
      "Epoch 18/50\n",
      " - 0s - loss: 0.2658 - acc: 0.9224\n",
      "Epoch 19/50\n",
      " - 0s - loss: 0.2503 - acc: 0.9388\n",
      "Epoch 20/50\n",
      " - 0s - loss: 0.2334 - acc: 0.9358\n",
      "Epoch 21/50\n",
      " - 0s - loss: 0.2199 - acc: 0.9373\n",
      "Epoch 22/50\n",
      " - 0s - loss: 0.2070 - acc: 0.9463\n",
      "Epoch 23/50\n",
      " - 0s - loss: 0.1954 - acc: 0.9507\n",
      "Epoch 24/50\n",
      " - 0s - loss: 0.1867 - acc: 0.9507\n",
      "Epoch 25/50\n",
      " - 0s - loss: 0.1749 - acc: 0.9507\n",
      "Epoch 26/50\n",
      " - 0s - loss: 0.1695 - acc: 0.9493\n",
      "Epoch 27/50\n",
      " - 0s - loss: 0.1611 - acc: 0.9522\n",
      "Epoch 28/50\n",
      " - 0s - loss: 0.1511 - acc: 0.9552\n",
      "Epoch 29/50\n",
      " - 0s - loss: 0.1430 - acc: 0.9567\n",
      "Epoch 30/50\n",
      " - 0s - loss: 0.1363 - acc: 0.9627\n",
      "Epoch 31/50\n",
      " - 0s - loss: 0.1303 - acc: 0.9612\n",
      "Epoch 32/50\n",
      " - 0s - loss: 0.1238 - acc: 0.9642\n",
      "Epoch 33/50\n",
      " - 0s - loss: 0.1181 - acc: 0.9642\n",
      "Epoch 34/50\n",
      " - 0s - loss: 0.1150 - acc: 0.9731\n",
      "Epoch 35/50\n",
      " - 0s - loss: 0.1085 - acc: 0.9716\n",
      "Epoch 36/50\n",
      " - 0s - loss: 0.1040 - acc: 0.9746\n",
      "Epoch 37/50\n",
      " - 0s - loss: 0.0993 - acc: 0.9806\n",
      "Epoch 38/50\n",
      " - 0s - loss: 0.0964 - acc: 0.9776\n",
      "Epoch 39/50\n",
      " - 0s - loss: 0.0931 - acc: 0.9761\n",
      "Epoch 40/50\n",
      " - 0s - loss: 0.0891 - acc: 0.9806\n",
      "Epoch 41/50\n",
      " - 0s - loss: 0.0863 - acc: 0.9806\n",
      "Epoch 42/50\n",
      " - 0s - loss: 0.0825 - acc: 0.9806\n",
      "Epoch 43/50\n",
      " - 0s - loss: 0.0784 - acc: 0.9806\n",
      "Epoch 44/50\n",
      " - 0s - loss: 0.0754 - acc: 0.9806\n",
      "Epoch 45/50\n",
      " - 0s - loss: 0.0728 - acc: 0.9806\n",
      "Epoch 46/50\n",
      " - 0s - loss: 0.0704 - acc: 0.9821\n",
      "Epoch 47/50\n",
      " - 0s - loss: 0.0682 - acc: 0.9851\n",
      "Epoch 48/50\n",
      " - 0s - loss: 0.0653 - acc: 0.9821\n",
      "Epoch 49/50\n",
      " - 0s - loss: 0.0633 - acc: 0.9910\n",
      "Epoch 50/50\n",
      " - 0s - loss: 0.0619 - acc: 0.9910\n"
     ]
    },
    {
     "data": {
      "text/plain": [
       "<keras.callbacks.History at 0x238daaa70b8>"
      ]
     },
     "execution_count": 173,
     "metadata": {},
     "output_type": "execute_result"
    }
   ],
   "source": [
    "model.fit(scaled_X_train,y_train,epochs=50,verbose=2)"
   ]
  },
  {
   "cell_type": "code",
   "execution_count": 174,
   "metadata": {},
   "outputs": [
    {
     "data": {
      "text/plain": [
       "array([1, 1, 1, 2, 1, 1, 1, 1, 1, 1, 0, 1, 1, 1, 0, 2, 0, 2, 2, 2, 2, 1,\n",
       "       0, 1, 2, 1, 1, 2, 0, 0, 0, 2, 1, 0, 1, 2, 2, 1, 2, 0, 2, 2, 1, 1,\n",
       "       1, 0, 0, 1, 2, 0, 1, 2, 1, 2, 2, 2, 0, 2, 2, 0, 1, 0, 2, 2, 0, 1,\n",
       "       2, 2, 1, 2, 2, 0, 1, 1, 1, 1, 2, 1, 0, 1, 1, 1, 0, 1, 2, 2, 2, 0,\n",
       "       2, 2, 0, 0, 1, 2, 2, 2, 2, 2, 1, 0, 0, 2, 0, 0, 1, 2, 2, 1, 1, 1,\n",
       "       1, 2, 2, 1, 1, 2, 1, 2, 1, 1, 2, 2, 1, 0, 1, 2, 2, 2, 2, 2, 0, 1,\n",
       "       0, 2, 1, 0, 1, 2, 1, 1, 0, 1, 0, 0, 2, 1, 0, 2, 0, 2, 2, 1, 0, 2,\n",
       "       0, 2, 2, 2, 0, 2, 0, 2, 2, 2, 2, 1, 1, 2, 2, 2, 2, 1, 2, 2, 0, 2,\n",
       "       1, 1, 1, 2, 0, 2, 0, 1, 2, 1, 2, 1, 0, 1, 0, 0, 1, 2, 2, 1, 2, 2,\n",
       "       0, 1, 1, 2, 1, 1, 0, 0, 0, 2, 0, 1, 1, 2, 1, 0, 2, 2, 2, 1, 1, 0,\n",
       "       1, 2, 2, 0, 1, 2, 2, 2, 1, 2, 2, 2, 1, 2, 0, 2, 1, 1, 1, 2, 2, 2,\n",
       "       1, 2, 1, 2, 2, 1, 1, 1, 1, 2, 1, 0, 1, 0, 1, 2, 0, 2, 1, 2, 2, 0,\n",
       "       0, 2, 2, 1, 1, 0, 1, 0, 1, 2, 1, 1, 1, 0, 1, 0, 1, 2, 2, 0, 2, 0,\n",
       "       1, 2, 2, 0, 0, 1, 1, 2, 1, 0, 1, 2, 0, 0, 2, 2, 0, 2, 0, 0, 1, 2,\n",
       "       2, 1, 1, 1, 1, 0, 2, 1, 0, 1, 0, 1, 2, 1, 1, 1, 2, 0, 1, 0, 0, 2],\n",
       "      dtype=int64)"
      ]
     },
     "execution_count": 174,
     "metadata": {},
     "output_type": "execute_result"
    }
   ],
   "source": [
    "model.predict_classes(scaled_X_test)"
   ]
  },
  {
   "cell_type": "code",
   "execution_count": 175,
   "metadata": {},
   "outputs": [
    {
     "data": {
      "text/plain": [
       "array([1, 1, 1, 2, 1, 1, 1, 1, 1, 1, 0, 1, 1, 1, 0, 2, 0, 2, 2, 2, 2, 1,\n",
       "       0, 1, 2, 0, 1, 2, 0, 0, 0, 2, 1, 0, 0, 2, 2, 1, 2, 0, 2, 2, 0, 1,\n",
       "       1, 0, 0, 1, 2, 0, 1, 2, 0, 2, 2, 2, 0, 2, 2, 0, 1, 0, 2, 2, 0, 1,\n",
       "       2, 2, 1, 2, 2, 0, 1, 1, 1, 1, 2, 0, 0, 1, 1, 1, 0, 1, 2, 2, 2, 0,\n",
       "       2, 2, 0, 0, 1, 2, 2, 2, 2, 2, 1, 0, 0, 2, 0, 0, 1, 2, 2, 1, 1, 1,\n",
       "       1, 2, 2, 0, 1, 2, 1, 2, 1, 1, 2, 2, 0, 0, 1, 2, 2, 2, 2, 2, 0, 1,\n",
       "       0, 2, 1, 0, 1, 2, 1, 1, 0, 1, 0, 0, 2, 1, 0, 2, 0, 2, 2, 0, 0, 2,\n",
       "       0, 2, 2, 2, 0, 2, 0, 2, 2, 2, 2, 1, 1, 2, 2, 2, 2, 1, 2, 2, 0, 2,\n",
       "       1, 0, 1, 2, 0, 2, 0, 1, 2, 1, 2, 1, 0, 1, 0, 0, 1, 2, 2, 1, 2, 2,\n",
       "       0, 1, 1, 2, 1, 1, 0, 0, 0, 2, 0, 0, 1, 2, 0, 0, 2, 2, 2, 1, 1, 0,\n",
       "       1, 2, 2, 0, 1, 2, 2, 2, 1, 2, 2, 2, 0, 2, 0, 2, 1, 1, 1, 2, 2, 2,\n",
       "       1, 2, 1, 2, 2, 1, 1, 1, 1, 2, 1, 0, 1, 0, 1, 2, 0, 2, 1, 2, 2, 0,\n",
       "       0, 2, 2, 0, 1, 0, 1, 0, 1, 2, 1, 1, 1, 0, 1, 0, 1, 2, 2, 0, 2, 0,\n",
       "       1, 2, 2, 0, 0, 1, 1, 2, 1, 0, 0, 2, 0, 0, 2, 2, 0, 2, 0, 0, 1, 2,\n",
       "       2, 1, 0, 1, 1, 0, 2, 1, 0, 1, 0, 0, 2, 0, 1, 1, 2, 0, 1, 0, 0, 2])"
      ]
     },
     "execution_count": 175,
     "metadata": {},
     "output_type": "execute_result"
    }
   ],
   "source": [
    "y_test"
   ]
  },
  {
   "cell_type": "code",
   "execution_count": 176,
   "metadata": {},
   "outputs": [
    {
     "data": {
      "text/plain": [
       "['loss', 'acc']"
      ]
     },
     "execution_count": 176,
     "metadata": {},
     "output_type": "execute_result"
    }
   ],
   "source": [
    "model.metrics_names"
   ]
  },
  {
   "cell_type": "code",
   "execution_count": 177,
   "metadata": {},
   "outputs": [],
   "source": [
    "from sklearn.metrics import confusion_matrix, classification_report"
   ]
  },
  {
   "cell_type": "code",
   "execution_count": 178,
   "metadata": {},
   "outputs": [
    {
     "data": {
      "text/plain": [
       "(330, 14)"
      ]
     },
     "execution_count": 178,
     "metadata": {},
     "output_type": "execute_result"
    }
   ],
   "source": [
    "scaled_X_test.shape"
   ]
  },
  {
   "cell_type": "code",
   "execution_count": 179,
   "metadata": {},
   "outputs": [],
   "source": [
    "predictions = model.predict_classes(scaled_X_test)"
   ]
  },
  {
   "cell_type": "code",
   "execution_count": 180,
   "metadata": {},
   "outputs": [
    {
     "data": {
      "text/plain": [
       "array([[ 79,  17,   0],\n",
       "       [  0, 106,   0],\n",
       "       [  0,   0, 128]], dtype=int64)"
      ]
     },
     "execution_count": 180,
     "metadata": {},
     "output_type": "execute_result"
    }
   ],
   "source": [
    "confusion_matrix(y_test,predictions)"
   ]
  },
  {
   "cell_type": "code",
   "execution_count": 181,
   "metadata": {},
   "outputs": [
    {
     "name": "stdout",
     "output_type": "stream",
     "text": [
      "             precision    recall  f1-score   support\n",
      "\n",
      "          0       1.00      0.82      0.90        96\n",
      "          1       0.86      1.00      0.93       106\n",
      "          2       1.00      1.00      1.00       128\n",
      "\n",
      "avg / total       0.96      0.95      0.95       330\n",
      "\n"
     ]
    }
   ],
   "source": [
    "print(classification_report(y_test,predictions))"
   ]
  },
  {
   "cell_type": "code",
   "execution_count": 185,
   "metadata": {},
   "outputs": [],
   "source": [
    "model.save('lungCancerClassificationModel.h5')"
   ]
  },
  {
   "cell_type": "code",
   "execution_count": 186,
   "metadata": {},
   "outputs": [],
   "source": [
    "from keras.models import load_model"
   ]
  },
  {
   "cell_type": "code",
   "execution_count": 187,
   "metadata": {},
   "outputs": [],
   "source": [
    "newmodel = load_model('lungCancerClassificationModel.h5')"
   ]
  },
  {
   "cell_type": "code",
   "execution_count": 188,
   "metadata": {},
   "outputs": [
    {
     "data": {
      "text/plain": [
       "array([1, 1, 1, 2, 1, 1, 1, 1, 1, 1, 0, 1, 1, 1, 0, 2, 0, 2, 2, 2, 2, 1,\n",
       "       0, 1, 2, 1, 1, 2, 0, 0, 0, 2, 1, 0, 1, 2, 2, 1, 2, 0, 2, 2, 1, 1,\n",
       "       1, 0, 0, 1, 2, 0, 1, 2, 1, 2, 2, 2, 0, 2, 2, 0, 1, 0, 2, 2, 0, 1,\n",
       "       2, 2, 1, 2, 2, 0, 1, 1, 1, 1, 2, 1, 0, 1, 1, 1, 0, 1, 2, 2, 2, 0,\n",
       "       2, 2, 0, 0, 1, 2, 2, 2, 2, 2, 1, 0, 0, 2, 0, 0, 1, 2, 2, 1, 1, 1,\n",
       "       1, 2, 2, 1, 1, 2, 1, 2, 1, 1, 2, 2, 1, 0, 1, 2, 2, 2, 2, 2, 0, 1,\n",
       "       0, 2, 1, 0, 1, 2, 1, 1, 0, 1, 0, 0, 2, 1, 0, 2, 0, 2, 2, 1, 0, 2,\n",
       "       0, 2, 2, 2, 0, 2, 0, 2, 2, 2, 2, 1, 1, 2, 2, 2, 2, 1, 2, 2, 0, 2,\n",
       "       1, 1, 1, 2, 0, 2, 0, 1, 2, 1, 2, 1, 0, 1, 0, 0, 1, 2, 2, 1, 2, 2,\n",
       "       0, 1, 1, 2, 1, 1, 0, 0, 0, 2, 0, 1, 1, 2, 1, 0, 2, 2, 2, 1, 1, 0,\n",
       "       1, 2, 2, 0, 1, 2, 2, 2, 1, 2, 2, 2, 1, 2, 0, 2, 1, 1, 1, 2, 2, 2,\n",
       "       1, 2, 1, 2, 2, 1, 1, 1, 1, 2, 1, 0, 1, 0, 1, 2, 0, 2, 1, 2, 2, 0,\n",
       "       0, 2, 2, 1, 1, 0, 1, 0, 1, 2, 1, 1, 1, 0, 1, 0, 1, 2, 2, 0, 2, 0,\n",
       "       1, 2, 2, 0, 0, 1, 1, 2, 1, 0, 1, 2, 0, 0, 2, 2, 0, 2, 0, 0, 1, 2,\n",
       "       2, 1, 1, 1, 1, 0, 2, 1, 0, 1, 0, 1, 2, 1, 1, 1, 2, 0, 1, 0, 0, 2],\n",
       "      dtype=int64)"
      ]
     },
     "execution_count": 188,
     "metadata": {},
     "output_type": "execute_result"
    }
   ],
   "source": [
    "newmodel.predict_classes(scaled_X_test)"
   ]
  },
  {
   "cell_type": "code",
   "execution_count": null,
   "metadata": {},
   "outputs": [],
   "source": []
  }
 ],
 "metadata": {
  "kernelspec": {
   "display_name": "Python 3",
   "language": "python",
   "name": "python3"
  },
  "language_info": {
   "codemirror_mode": {
    "name": "ipython",
    "version": 3
   },
   "file_extension": ".py",
   "mimetype": "text/x-python",
   "name": "python",
   "nbconvert_exporter": "python",
   "pygments_lexer": "ipython3",
   "version": "3.6.6"
  }
 },
 "nbformat": 4,
 "nbformat_minor": 5
}
